{
 "cells": [
  {
   "cell_type": "code",
   "execution_count": 1,
   "metadata": {},
   "outputs": [],
   "source": [
    "import numpy as np\n",
    "# https://towardsdatascience.com/dynamic-mode-decomposition-for-multivariate-time-series-forecasting-415d30086b4b"
   ]
  },
  {
   "cell_type": "code",
   "execution_count": 2,
   "metadata": {},
   "outputs": [],
   "source": [
    "def DMD(data, r):\n",
    "    \"\"\"Dynamic Mode Decomposition (DMD) algorithm.\"\"\"\n",
    "    \n",
    "    ## Build data matrices\n",
    "    X1 = data[:, : -1]\n",
    "    X2 = data[:, 1 :]\n",
    "    ## Perform singular value decomposition on X1\n",
    "    u, s, v = np.linalg.svd(X1, full_matrices = False)\n",
    "    ## Compute the Koopman matrix\n",
    "    A_tilde = u[:, : r].conj().T @ X2 @ v[: r, :].conj().T * np.reciprocal(s[: r])\n",
    "    ## Perform eigenvalue decomposition on A_tilde\n",
    "    Phi, Q = np.linalg.eig(A_tilde)\n",
    "    ## Compute the coefficient matrix\n",
    "    Psi = X2 @ v[: r, :].conj().T @ np.diag(np.reciprocal(s[: r])) @ Q\n",
    "    A = Psi @ np.diag(Phi) @ np.linalg.pinv(Psi)\n",
    "    \n",
    "    return A_tilde, Phi, A"
   ]
  },
  {
   "cell_type": "code",
   "execution_count": 3,
   "metadata": {},
   "outputs": [],
   "source": [
    "def DMD4cast(data, r, pred_step):\n",
    "    N, T = data.shape\n",
    "    _, _, A = DMD(data, r)\n",
    "    mat = np.append(data, np.zeros((N, pred_step)), axis = 1)\n",
    "    for s in range(pred_step):\n",
    "        mat[:, T + s] = (A @ mat[:, T + s - 1]).real\n",
    "    return mat[:, - pred_step :]"
   ]
  },
  {
   "cell_type": "code",
   "execution_count": 4,
   "metadata": {},
   "outputs": [
    {
     "name": "stdout",
     "output_type": "stream",
     "text": [
      "[[11.00000001 12.00000003]\n",
      " [12.00000001 13.00000003]]\n"
     ]
    }
   ],
   "source": [
    "X = np.zeros((2, 10))\n",
    "X[0, :] = np.arange(1, 11)\n",
    "X[1, :] = np.arange(2, 12)\n",
    "pred_step = 2\n",
    "r = 2\n",
    "mat_hat = DMD4cast(X, r, pred_step)\n",
    "print(mat_hat) \n"
   ]
  },
  {
   "cell_type": "code",
   "execution_count": null,
   "metadata": {},
   "outputs": [],
   "source": []
  }
 ],
 "metadata": {
  "interpreter": {
   "hash": "c3c678ff5679f29a9ade4381203932c6658e62a37e141129e4a3b75e3471cb49"
  },
  "kernelspec": {
   "display_name": "Python 3.7.8 64-bit ('base': conda)",
   "name": "python3"
  },
  "language_info": {
   "codemirror_mode": {
    "name": "ipython",
    "version": 3
   },
   "file_extension": ".py",
   "mimetype": "text/x-python",
   "name": "python",
   "nbconvert_exporter": "python",
   "pygments_lexer": "ipython3",
   "version": "3.7.8"
  },
  "orig_nbformat": 4
 },
 "nbformat": 4,
 "nbformat_minor": 2
}
